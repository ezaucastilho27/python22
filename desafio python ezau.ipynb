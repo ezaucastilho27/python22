{
 "cells": [
  {
   "cell_type": "code",
   "execution_count": null,
   "metadata": {},
   "outputs": [],
   "source": []
  },
  {
   "cell_type": "code",
   "execution_count": 3,
   "metadata": {},
   "outputs": [
    {
     "name": "stdout",
     "output_type": "stream",
     "text": [
      "Seu número escolhido foi: 5\n"
     ]
    }
   ],
   "source": [
    "numero= int(input(\"Digite um número: \"))\n",
    "print(\"Seu número escolhido foi:\",(numero))\n",
    "\n"
   ]
  },
  {
   "cell_type": "code",
   "execution_count": 1,
   "metadata": {},
   "outputs": [
    {
     "name": "stdout",
     "output_type": "stream",
     "text": [
      "246\n"
     ]
    }
   ],
   "source": [
    "numero1= int(input(\"Digite um número: \"))\n",
    "numero2= int(input(\"Digite um número: \"))\n",
    "print (numero1+numero2)"
   ]
  },
  {
   "cell_type": "code",
   "execution_count": 13,
   "metadata": {},
   "outputs": [
    {
     "name": "stdout",
     "output_type": "stream",
     "text": [
      "10.0\n"
     ]
    }
   ],
   "source": [
    "nota1= int(input(\"Digite sua nota:\"))\n",
    "nota2= int(input(\"Digite sua nota:\"))\n",
    "nota3= int(input(\"Digite sua nota:\"))\n",
    "print ((nota1+nota2+nota3) /3)\n"
   ]
  },
  {
   "cell_type": "code",
   "execution_count": 2,
   "metadata": {},
   "outputs": [
    {
     "name": "stdout",
     "output_type": "stream",
     "text": [
      "2556.0\n"
     ]
    }
   ],
   "source": [
    "hora=int(input(\"Digite quantas horas você trabalha por mês:\"))\n",
    "mes=float(input(\"Digite quanto você ganha por hora:\"))\n",
    "print (hora*mes)\n"
   ]
  },
  {
   "cell_type": "code",
   "execution_count": 36,
   "metadata": {},
   "outputs": [
    {
     "name": "stdout",
     "output_type": "stream",
     "text": [
      "A multa a ser paga é: R$ 4\n"
     ]
    }
   ],
   "source": [
    "#Recebe o Peso pescado\n",
    "peso=float(input(\"Digite o peso:\"))\n",
    "#Peso ultrapassado\n",
    "multa= int(input(\"João, caso tenha passado de 50Kg, informe a diferença, caso não botar 0\"))\n",
    "#Quantos Kg maior que 50 Kg?\n",
    "diferenca= int(input(\"Informe os Kg ultrapassados de 50kg\"))\n",
    "#A diferença multiplicado por 4.\n",
    "taxa= diferenca * 4\n",
    "print(\"A multa a ser paga é: R$\", taxa)\n"
   ]
  },
  {
   "cell_type": "code",
   "execution_count": null,
   "metadata": {},
   "outputs": [],
   "source": [
    "    "
   ]
  }
 ],
 "metadata": {
  "kernelspec": {
   "display_name": "Python 3",
   "language": "python",
   "name": "python3"
  },
  "language_info": {
   "codemirror_mode": {
    "name": "ipython",
    "version": 3
   },
   "file_extension": ".py",
   "mimetype": "text/x-python",
   "name": "python",
   "nbconvert_exporter": "python",
   "pygments_lexer": "ipython3",
   "version": "3.11.4"
  }
 },
 "nbformat": 4,
 "nbformat_minor": 2
}
